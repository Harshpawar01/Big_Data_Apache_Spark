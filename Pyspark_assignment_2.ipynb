{
  "nbformat": 4,
  "nbformat_minor": 0,
  "metadata": {
    "colab": {
      "provenance": []
    },
    "kernelspec": {
      "name": "python3",
      "display_name": "Python 3"
    },
    "language_info": {
      "name": "python"
    }
  },
  "cells": [
    {
      "cell_type": "code",
      "execution_count": 1,
      "metadata": {
        "colab": {
          "base_uri": "https://localhost:8080/"
        },
        "id": "ftSk75seck2v",
        "outputId": "468d42e4-3811-4b1d-b144-f44fac278382"
      },
      "outputs": [
        {
          "output_type": "stream",
          "name": "stdout",
          "text": [
            "Requirement already satisfied: pyspark in /usr/local/lib/python3.11/dist-packages (3.5.1)\n",
            "Requirement already satisfied: py4j==0.10.9.7 in /usr/local/lib/python3.11/dist-packages (from pyspark) (0.10.9.7)\n"
          ]
        }
      ],
      "source": [
        "!pip install pyspark"
      ]
    },
    {
      "cell_type": "code",
      "source": [
        "import pyspark"
      ],
      "metadata": {
        "id": "DK2X6QELc1Z2"
      },
      "execution_count": 2,
      "outputs": []
    },
    {
      "cell_type": "code",
      "source": [
        "from pyspark.sql import SparkSession\n",
        "spark = SparkSession.builder.appName('/content/us-airlines-monthly-aircraft-miles-flown.csv').getOrCreate()"
      ],
      "metadata": {
        "id": "zXAqYm00c6qQ"
      },
      "execution_count": 3,
      "outputs": []
    },
    {
      "cell_type": "code",
      "source": [
        "df = spark.read.csv(\"/content/us-airlines-monthly-aircraft-miles-flown.csv\")"
      ],
      "metadata": {
        "id": "izWWWO6LdHme"
      },
      "execution_count": 4,
      "outputs": []
    },
    {
      "cell_type": "code",
      "source": [
        "df.show()"
      ],
      "metadata": {
        "colab": {
          "base_uri": "https://localhost:8080/"
        },
        "id": "et6Ms5evdTn_",
        "outputId": "40d736c5-2bf6-4f66-a71a-e99f32d2504b"
      },
      "execution_count": 5,
      "outputs": [
        {
          "output_type": "stream",
          "name": "stdout",
          "text": [
            "+-------+-------+\n",
            "|    _c0|    _c1|\n",
            "+-------+-------+\n",
            "|  Month|MilesMM|\n",
            "|1963-01|   6827|\n",
            "|1963-02|   6178|\n",
            "|1963-03|   7084|\n",
            "|1963-04|   8162|\n",
            "|1963-05|   8462|\n",
            "|1963-06|   9644|\n",
            "|1963-07|  10466|\n",
            "|1963-08|  10748|\n",
            "|1963-09|   9963|\n",
            "|1963-10|   8194|\n",
            "|1963-11|   6848|\n",
            "|1963-12|   7027|\n",
            "|1964-01|   7269|\n",
            "|1964-02|   6775|\n",
            "|1964-03|   7819|\n",
            "|1964-04|   8371|\n",
            "|1964-05|   9069|\n",
            "|1964-06|  10248|\n",
            "|1964-07|  11030|\n",
            "+-------+-------+\n",
            "only showing top 20 rows\n",
            "\n"
          ]
        }
      ]
    },
    {
      "cell_type": "code",
      "source": [
        "df=spark.read.option(\"header\",True).csv(\"/content/us-airlines-monthly-aircraft-miles-flown.csv\")"
      ],
      "metadata": {
        "id": "K1WNgvUadWMp"
      },
      "execution_count": 6,
      "outputs": []
    },
    {
      "cell_type": "code",
      "source": [
        "df.show()"
      ],
      "metadata": {
        "colab": {
          "base_uri": "https://localhost:8080/"
        },
        "id": "19nsR-AbdbZ2",
        "outputId": "a674e12e-0fa2-466b-a21a-70ade3c502ee"
      },
      "execution_count": 7,
      "outputs": [
        {
          "output_type": "stream",
          "name": "stdout",
          "text": [
            "+-------+-------+\n",
            "|  Month|MilesMM|\n",
            "+-------+-------+\n",
            "|1963-01|   6827|\n",
            "|1963-02|   6178|\n",
            "|1963-03|   7084|\n",
            "|1963-04|   8162|\n",
            "|1963-05|   8462|\n",
            "|1963-06|   9644|\n",
            "|1963-07|  10466|\n",
            "|1963-08|  10748|\n",
            "|1963-09|   9963|\n",
            "|1963-10|   8194|\n",
            "|1963-11|   6848|\n",
            "|1963-12|   7027|\n",
            "|1964-01|   7269|\n",
            "|1964-02|   6775|\n",
            "|1964-03|   7819|\n",
            "|1964-04|   8371|\n",
            "|1964-05|   9069|\n",
            "|1964-06|  10248|\n",
            "|1964-07|  11030|\n",
            "|1964-08|  10882|\n",
            "+-------+-------+\n",
            "only showing top 20 rows\n",
            "\n"
          ]
        }
      ]
    },
    {
      "cell_type": "code",
      "source": [
        "df.printSchema()"
      ],
      "metadata": {
        "colab": {
          "base_uri": "https://localhost:8080/"
        },
        "id": "JSgJOdpkde0w",
        "outputId": "ca75f568-441d-4a0e-cf77-13e466e2dfda"
      },
      "execution_count": 8,
      "outputs": [
        {
          "output_type": "stream",
          "name": "stdout",
          "text": [
            "root\n",
            " |-- Month: string (nullable = true)\n",
            " |-- MilesMM: string (nullable = true)\n",
            "\n"
          ]
        }
      ]
    },
    {
      "cell_type": "code",
      "source": [
        "df = spark.read.option(\"header\", True).option(\"inferschema\", True).csv(\"/content/us-airlines-monthly-aircraft-miles-flown.csv\")"
      ],
      "metadata": {
        "id": "RJZtAl1hdjUX"
      },
      "execution_count": 9,
      "outputs": []
    },
    {
      "cell_type": "code",
      "source": [
        "df.printSchema()"
      ],
      "metadata": {
        "colab": {
          "base_uri": "https://localhost:8080/"
        },
        "id": "_vbzS_tadoWJ",
        "outputId": "8d6bd9e9-05d1-458a-ee62-50ce7e2af8ea"
      },
      "execution_count": 10,
      "outputs": [
        {
          "output_type": "stream",
          "name": "stdout",
          "text": [
            "root\n",
            " |-- Month: timestamp (nullable = true)\n",
            " |-- MilesMM: integer (nullable = true)\n",
            "\n"
          ]
        }
      ]
    },
    {
      "cell_type": "code",
      "source": [
        "df.describe().show()"
      ],
      "metadata": {
        "colab": {
          "base_uri": "https://localhost:8080/"
        },
        "id": "Tet6M9k1dsjC",
        "outputId": "218b65d9-912f-49f6-efce-c5d9dfc3afe3"
      },
      "execution_count": 11,
      "outputs": [
        {
          "output_type": "stream",
          "name": "stdout",
          "text": [
            "+-------+------------------+\n",
            "|summary|           MilesMM|\n",
            "+-------+------------------+\n",
            "|  count|                96|\n",
            "|   mean|10385.739583333334|\n",
            "| stddev|2202.5005513819337|\n",
            "|    min|              6178|\n",
            "|    max|             16234|\n",
            "+-------+------------------+\n",
            "\n"
          ]
        }
      ]
    },
    {
      "cell_type": "code",
      "source": [
        "df.summary().show()"
      ],
      "metadata": {
        "colab": {
          "base_uri": "https://localhost:8080/"
        },
        "id": "qCT6gExxdvOT",
        "outputId": "8737257d-c91c-4d72-9d6c-bd725cc5bdbe"
      },
      "execution_count": 12,
      "outputs": [
        {
          "output_type": "stream",
          "name": "stdout",
          "text": [
            "+-------+------------------+\n",
            "|summary|           MilesMM|\n",
            "+-------+------------------+\n",
            "|  count|                96|\n",
            "|   mean|10385.739583333334|\n",
            "| stddev|2202.5005513819337|\n",
            "|    min|              6178|\n",
            "|    25%|              8484|\n",
            "|    50%|             10366|\n",
            "|    75%|             11637|\n",
            "|    max|             16234|\n",
            "+-------+------------------+\n",
            "\n"
          ]
        }
      ]
    },
    {
      "cell_type": "code",
      "source": [],
      "metadata": {
        "id": "K7jNuiQcdyeB"
      },
      "execution_count": null,
      "outputs": []
    }
  ]
}